{
 "cells": [
  {
   "cell_type": "code",
   "execution_count": 264,
   "metadata": {},
   "outputs": [
    {
     "name": "stdout",
     "output_type": "stream",
     "text": [
      "/bin/bash: pip: command not found\r\n"
     ]
    }
   ],
   "source": [
    "# install if needed\n",
    "!pip install searchtweets\n"
   ]
  },
  {
   "cell_type": "code",
   "execution_count": 265,
   "metadata": {},
   "outputs": [],
   "source": [
    "import json\n",
    "from searchtweets import load_credentials, gen_rule_payload, ResultStream"
   ]
  },
  {
   "cell_type": "code",
   "execution_count": 266,
   "metadata": {},
   "outputs": [],
   "source": [
    "filen = \"_01_07_21_VIII_US\"\n",
    "scope = 'US Data/'\n",
    "#scope = 'NY Data/'\n",
    "path = \"./\" + scope\n",
    "geocode = \"39.8,-95.583068847656,2500km\" if scope == 'US Data/' else \"40.714353,-74.00597299999998,20km\"\n",
    "FILENAME = path + \"data\" + filen + \".jsonl\"\n",
    "\n",
    "# Search terms\n",
    "search_words = \"asians OR asian\"\n",
    "date_since = \"2021-01-07\"\n",
    "date_to = \"2021-01-08\" # excluded"
   ]
  },
  {
   "cell_type": "code",
   "execution_count": 267,
   "metadata": {},
   "outputs": [],
   "source": [
    "#change API scope\n",
    "#full archived scope = full archived\n",
    "#thirty scope = 30day\n",
    "API_SCOPE = '30day'"
   ]
  },
  {
   "cell_type": "code",
   "execution_count": 268,
   "metadata": {},
   "outputs": [],
   "source": [
    "rule = gen_rule_payload(search_words,\n",
    "                        results_per_call=100, # 100 for sandbox, 500 for paid \n",
    "                        from_date=date_since,\n",
    "                        to_date=date_to,\n",
    "                       )\n"
   ]
  },
  {
   "cell_type": "code",
   "execution_count": 269,
   "metadata": {},
   "outputs": [],
   "source": [
    "API_KEY = 'cENP2J4B2hqeJEuiTNWAwKmOu' # consumer key\n",
    "API_SECRET_KEY = 'InNdy2u7HjnI9JrEz4gLP8i6Ro1t3R6fuVV2JhXMb5nEN80wuk' # consumer secret\n",
    "DEV_ENVIRONMENT_LABEL = 'Research'"
   ]
  },
  {
   "cell_type": "code",
   "execution_count": 270,
   "metadata": {},
   "outputs": [],
   "source": [
    "import yaml\n",
    "config = dict(\n",
    "    search_tweets_api=dict(\n",
    "        account_type='premium',\n",
    "        endpoint=f\"https://api.twitter.com/1.1/tweets/search/{API_SCOPE}/{DEV_ENVIRONMENT_LABEL}.json\",\n",
    "        consumer_key=API_KEY,\n",
    "        consumer_secret=API_SECRET_KEY\n",
    "    )\n",
    ")\n",
    "with open('twitter_keys.yaml', 'w') as config_file:\n",
    "    yaml.dump(config, config_file, default_flow_style=False)"
   ]
  },
  {
   "cell_type": "code",
   "execution_count": 271,
   "metadata": {},
   "outputs": [
    {
     "name": "stderr",
     "output_type": "stream",
     "text": [
      "Grabbing bearer token from OAUTH\n"
     ]
    }
   ],
   "source": [
    "premium_search_args = load_credentials(\"twitter_keys.yaml\",\n",
    "                                       yaml_key=\"search_tweets_api\",\n",
    "                                       env_overwrite=False)"
   ]
  },
  {
   "cell_type": "code",
   "execution_count": 272,
   "metadata": {},
   "outputs": [],
   "source": [
    "rs = ResultStream(rule_payload=rule,\n",
    "                  max_results=1000,\n",
    "                  **premium_search_args)"
   ]
  },
  {
   "cell_type": "code",
   "execution_count": 273,
   "metadata": {},
   "outputs": [
    {
     "data": {
      "text/plain": [
       "ResultStream: \n",
       "\t{\n",
       "    \"username\":null,\n",
       "    \"endpoint\":\"https:\\/\\/api.twitter.com\\/1.1\\/tweets\\/search\\/30day\\/Research.json\",\n",
       "    \"rule_payload\":{\n",
       "        \"query\":\"asians OR asian\",\n",
       "        \"maxResults\":100,\n",
       "        \"toDate\":\"202101080000\",\n",
       "        \"fromDate\":\"202101070000\"\n",
       "    },\n",
       "    \"tweetify\":true,\n",
       "    \"max_results\":1000\n",
       "}"
      ]
     },
     "execution_count": 273,
     "metadata": {},
     "output_type": "execute_result"
    }
   ],
   "source": [
    "rs"
   ]
  },
  {
   "cell_type": "code",
   "execution_count": 274,
   "metadata": {},
   "outputs": [
    {
     "name": "stdout",
     "output_type": "stream",
     "text": [
      "1000: Thu Jan 07 23:34:46 +0000 2021\n",
      "done\n"
     ]
    }
   ],
   "source": [
    "#### save the fetched data \n",
    "# Script prints an update to the CLI every time it collected another X Tweets\n",
    "PRINT_AFTER_X = 1000\n",
    "#PRINT_AFTER_X = 100\n",
    "with open(FILENAME, 'a', encoding='utf-8') as f:\n",
    "    n = 0\n",
    "    for tweet in rs.stream():\n",
    "        n += 1\n",
    "        if n % PRINT_AFTER_X == 0:\n",
    "            print('{0}: {1}'.format(str(n), tweet['created_at']))\n",
    "        json.dump(tweet, f)\n",
    "        f.write('\\n')\n",
    "print('done')"
   ]
  },
  {
   "cell_type": "code",
   "execution_count": 275,
   "metadata": {},
   "outputs": [
    {
     "data": {
      "text/html": [
       "<div>\n",
       "<style scoped>\n",
       "    .dataframe tbody tr th:only-of-type {\n",
       "        vertical-align: middle;\n",
       "    }\n",
       "\n",
       "    .dataframe tbody tr th {\n",
       "        vertical-align: top;\n",
       "    }\n",
       "\n",
       "    .dataframe thead th {\n",
       "        text-align: right;\n",
       "    }\n",
       "</style>\n",
       "<table border=\"1\" class=\"dataframe\">\n",
       "  <thead>\n",
       "    <tr style=\"text-align: right;\">\n",
       "      <th></th>\n",
       "      <th>created_at</th>\n",
       "      <th>id</th>\n",
       "      <th>id_str</th>\n",
       "      <th>text</th>\n",
       "      <th>source</th>\n",
       "      <th>truncated</th>\n",
       "      <th>in_reply_to_status_id</th>\n",
       "      <th>in_reply_to_status_id_str</th>\n",
       "      <th>in_reply_to_user_id</th>\n",
       "      <th>in_reply_to_user_id_str</th>\n",
       "      <th>...</th>\n",
       "      <th>lang</th>\n",
       "      <th>matching_rules</th>\n",
       "      <th>extended_tweet</th>\n",
       "      <th>quoted_status_id</th>\n",
       "      <th>quoted_status_id_str</th>\n",
       "      <th>quoted_status</th>\n",
       "      <th>quoted_status_permalink</th>\n",
       "      <th>display_text_range</th>\n",
       "      <th>possibly_sensitive</th>\n",
       "      <th>extended_entities</th>\n",
       "    </tr>\n",
       "  </thead>\n",
       "  <tbody>\n",
       "    <tr>\n",
       "      <th>0</th>\n",
       "      <td>2021-01-07 23:59:58+00:00</td>\n",
       "      <td>1347332179777478658</td>\n",
       "      <td>1347332179777478656</td>\n",
       "      <td>RT @gayman42069: Pogchamp got cancelled becaus...</td>\n",
       "      <td>&lt;a href=\"http://twitter.com/download/android\" ...</td>\n",
       "      <td>False</td>\n",
       "      <td>NaN</td>\n",
       "      <td>NaN</td>\n",
       "      <td>NaN</td>\n",
       "      <td>NaN</td>\n",
       "      <td>...</td>\n",
       "      <td>en</td>\n",
       "      <td>[{'tag': None}]</td>\n",
       "      <td>NaN</td>\n",
       "      <td>NaN</td>\n",
       "      <td>NaN</td>\n",
       "      <td>NaN</td>\n",
       "      <td>NaN</td>\n",
       "      <td>NaN</td>\n",
       "      <td>NaN</td>\n",
       "      <td>NaN</td>\n",
       "    </tr>\n",
       "    <tr>\n",
       "      <th>1</th>\n",
       "      <td>2021-01-07 23:59:55+00:00</td>\n",
       "      <td>1347332166661726208</td>\n",
       "      <td>1347332166661726208</td>\n",
       "      <td>RT @noemicaseres53: @ALDubFTnQT @cpjayloni @we...</td>\n",
       "      <td>&lt;a href=\"https://mobile.twitter.com\" rel=\"nofo...</td>\n",
       "      <td>False</td>\n",
       "      <td>NaN</td>\n",
       "      <td>NaN</td>\n",
       "      <td>NaN</td>\n",
       "      <td>NaN</td>\n",
       "      <td>...</td>\n",
       "      <td>in</td>\n",
       "      <td>[{'tag': None}]</td>\n",
       "      <td>NaN</td>\n",
       "      <td>NaN</td>\n",
       "      <td>NaN</td>\n",
       "      <td>NaN</td>\n",
       "      <td>NaN</td>\n",
       "      <td>NaN</td>\n",
       "      <td>NaN</td>\n",
       "      <td>NaN</td>\n",
       "    </tr>\n",
       "    <tr>\n",
       "      <th>2</th>\n",
       "      <td>2021-01-07 23:59:53+00:00</td>\n",
       "      <td>1347332159938301952</td>\n",
       "      <td>1347332159938301952</td>\n",
       "      <td>RT @brightwin_fess: good morning /bw s☀️ yang ...</td>\n",
       "      <td>&lt;a href=\"http://twitter.com/download/android\" ...</td>\n",
       "      <td>False</td>\n",
       "      <td>NaN</td>\n",
       "      <td>NaN</td>\n",
       "      <td>NaN</td>\n",
       "      <td>NaN</td>\n",
       "      <td>...</td>\n",
       "      <td>in</td>\n",
       "      <td>[{'tag': None}]</td>\n",
       "      <td>NaN</td>\n",
       "      <td>NaN</td>\n",
       "      <td>NaN</td>\n",
       "      <td>NaN</td>\n",
       "      <td>NaN</td>\n",
       "      <td>NaN</td>\n",
       "      <td>NaN</td>\n",
       "      <td>NaN</td>\n",
       "    </tr>\n",
       "    <tr>\n",
       "      <th>3</th>\n",
       "      <td>2021-01-07 23:59:52+00:00</td>\n",
       "      <td>1347332153067986944</td>\n",
       "      <td>1347332153067986944</td>\n",
       "      <td>RT @Tookta92166405: #HaveABrightDay \\nสวัสดีเช...</td>\n",
       "      <td>&lt;a href=\"http://twitter.com/download/iphone\" r...</td>\n",
       "      <td>False</td>\n",
       "      <td>NaN</td>\n",
       "      <td>NaN</td>\n",
       "      <td>NaN</td>\n",
       "      <td>NaN</td>\n",
       "      <td>...</td>\n",
       "      <td>th</td>\n",
       "      <td>[{'tag': None}]</td>\n",
       "      <td>NaN</td>\n",
       "      <td>NaN</td>\n",
       "      <td>NaN</td>\n",
       "      <td>NaN</td>\n",
       "      <td>NaN</td>\n",
       "      <td>NaN</td>\n",
       "      <td>NaN</td>\n",
       "      <td>NaN</td>\n",
       "    </tr>\n",
       "    <tr>\n",
       "      <th>4</th>\n",
       "      <td>2021-01-07 23:59:47+00:00</td>\n",
       "      <td>1347332135502360576</td>\n",
       "      <td>1347332135502360576</td>\n",
       "      <td>@SecElaineChao you should have quit when Agent...</td>\n",
       "      <td>&lt;a href=\"http://twitter.com/download/iphone\" r...</td>\n",
       "      <td>True</td>\n",
       "      <td>NaN</td>\n",
       "      <td>NaN</td>\n",
       "      <td>8.260659e+17</td>\n",
       "      <td>8.260659e+17</td>\n",
       "      <td>...</td>\n",
       "      <td>en</td>\n",
       "      <td>[{'tag': None}]</td>\n",
       "      <td>{'full_text': '@SecElaineChao you should have ...</td>\n",
       "      <td>NaN</td>\n",
       "      <td>NaN</td>\n",
       "      <td>NaN</td>\n",
       "      <td>NaN</td>\n",
       "      <td>NaN</td>\n",
       "      <td>NaN</td>\n",
       "      <td>NaN</td>\n",
       "    </tr>\n",
       "  </tbody>\n",
       "</table>\n",
       "<p>5 rows × 36 columns</p>\n",
       "</div>"
      ],
      "text/plain": [
       "                 created_at                   id               id_str  \\\n",
       "0 2021-01-07 23:59:58+00:00  1347332179777478658  1347332179777478656   \n",
       "1 2021-01-07 23:59:55+00:00  1347332166661726208  1347332166661726208   \n",
       "2 2021-01-07 23:59:53+00:00  1347332159938301952  1347332159938301952   \n",
       "3 2021-01-07 23:59:52+00:00  1347332153067986944  1347332153067986944   \n",
       "4 2021-01-07 23:59:47+00:00  1347332135502360576  1347332135502360576   \n",
       "\n",
       "                                                text  \\\n",
       "0  RT @gayman42069: Pogchamp got cancelled becaus...   \n",
       "1  RT @noemicaseres53: @ALDubFTnQT @cpjayloni @we...   \n",
       "2  RT @brightwin_fess: good morning /bw s☀️ yang ...   \n",
       "3  RT @Tookta92166405: #HaveABrightDay \\nสวัสดีเช...   \n",
       "4  @SecElaineChao you should have quit when Agent...   \n",
       "\n",
       "                                              source  truncated  \\\n",
       "0  <a href=\"http://twitter.com/download/android\" ...      False   \n",
       "1  <a href=\"https://mobile.twitter.com\" rel=\"nofo...      False   \n",
       "2  <a href=\"http://twitter.com/download/android\" ...      False   \n",
       "3  <a href=\"http://twitter.com/download/iphone\" r...      False   \n",
       "4  <a href=\"http://twitter.com/download/iphone\" r...       True   \n",
       "\n",
       "   in_reply_to_status_id  in_reply_to_status_id_str  in_reply_to_user_id  \\\n",
       "0                    NaN                        NaN                  NaN   \n",
       "1                    NaN                        NaN                  NaN   \n",
       "2                    NaN                        NaN                  NaN   \n",
       "3                    NaN                        NaN                  NaN   \n",
       "4                    NaN                        NaN         8.260659e+17   \n",
       "\n",
       "   in_reply_to_user_id_str  ... lang   matching_rules  \\\n",
       "0                      NaN  ...   en  [{'tag': None}]   \n",
       "1                      NaN  ...   in  [{'tag': None}]   \n",
       "2                      NaN  ...   in  [{'tag': None}]   \n",
       "3                      NaN  ...   th  [{'tag': None}]   \n",
       "4             8.260659e+17  ...   en  [{'tag': None}]   \n",
       "\n",
       "                                      extended_tweet quoted_status_id  \\\n",
       "0                                                NaN              NaN   \n",
       "1                                                NaN              NaN   \n",
       "2                                                NaN              NaN   \n",
       "3                                                NaN              NaN   \n",
       "4  {'full_text': '@SecElaineChao you should have ...              NaN   \n",
       "\n",
       "  quoted_status_id_str  quoted_status quoted_status_permalink  \\\n",
       "0                  NaN            NaN                     NaN   \n",
       "1                  NaN            NaN                     NaN   \n",
       "2                  NaN            NaN                     NaN   \n",
       "3                  NaN            NaN                     NaN   \n",
       "4                  NaN            NaN                     NaN   \n",
       "\n",
       "   display_text_range  possibly_sensitive  extended_entities  \n",
       "0                 NaN                 NaN                NaN  \n",
       "1                 NaN                 NaN                NaN  \n",
       "2                 NaN                 NaN                NaN  \n",
       "3                 NaN                 NaN                NaN  \n",
       "4                 NaN                 NaN                NaN  \n",
       "\n",
       "[5 rows x 36 columns]"
      ]
     },
     "execution_count": 275,
     "metadata": {},
     "output_type": "execute_result"
    }
   ],
   "source": [
    "#### read the save data\n",
    "\n",
    "import pandas as pd\n",
    "import numpy as np\n",
    "\n",
    "df = pd.read_json(FILENAME, lines=True)\n",
    "df.head()\n"
   ]
  },
  {
   "cell_type": "code",
   "execution_count": 276,
   "metadata": {},
   "outputs": [
    {
     "data": {
      "text/plain": [
       "(1000, 36)"
      ]
     },
     "execution_count": 276,
     "metadata": {},
     "output_type": "execute_result"
    }
   ],
   "source": [
    "df.shape"
   ]
  },
  {
   "cell_type": "code",
   "execution_count": null,
   "metadata": {},
   "outputs": [],
   "source": []
  },
  {
   "cell_type": "code",
   "execution_count": null,
   "metadata": {},
   "outputs": [],
   "source": []
  }
 ],
 "metadata": {
  "kernelspec": {
   "display_name": "Python 3",
   "language": "python",
   "name": "python3"
  },
  "language_info": {
   "codemirror_mode": {
    "name": "ipython",
    "version": 3
   },
   "file_extension": ".py",
   "mimetype": "text/x-python",
   "name": "python",
   "nbconvert_exporter": "python",
   "pygments_lexer": "ipython3",
   "version": "3.8.3"
  }
 },
 "nbformat": 4,
 "nbformat_minor": 4
}
